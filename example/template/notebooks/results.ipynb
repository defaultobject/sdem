{
 "cells": [
  {
   "cell_type": "code",
   "execution_count": null,
   "metadata": {},
   "outputs": [],
   "source": [
    "%load_ext autoreload\n",
    "%autoreload 2"
   ]
  },
  {
   "cell_type": "code",
   "execution_count": null,
   "metadata": {},
   "outputs": [],
   "source": [
    "import sys\n",
    "sys.path.append('../../../')\n",
    "sys.path.append('../')\n",
    "\n",
    "import model_log\n",
    "from model_log import results\n",
    "from model_log.util import read_yaml\n",
    "ex_config = read_yaml('../experiment_config.yaml')\n",
    "\n",
    "import numpy as np\n",
    "import pandas as pd\n",
    "import pickle\n",
    "\n",
    "import ipysheet\n",
    "import ipywidgets as widgets\n",
    "\n",
    "import os\n",
    "import pathlib\n",
    "\n",
    "import matplotlib as mpl\n",
    "import matplotlib.pyplot as plt"
   ]
  },
  {
   "cell_type": "markdown",
   "metadata": {},
   "source": [
    "# Load experiments"
   ]
  },
  {
   "cell_type": "code",
   "execution_count": null,
   "metadata": {},
   "outputs": [],
   "source": [
    "experiment_name = results.get_default_experiment_name();\n",
    "\n",
    "all_configs = results.get_default_all_configs(experiment_name, model_root='../models');\n",
    "\n",
    "experiments  = model_log.sacred_manager.match_config_filters_to_fold_ids(experiment_name, all_configs)"
   ]
  },
  {
   "cell_type": "markdown",
   "metadata": {},
   "source": [
    "# Plot Metrics across all folds"
   ]
  },
  {
   "cell_type": "code",
   "execution_count": null,
   "metadata": {},
   "outputs": [],
   "source": [
    "metrics = ['training_time', 'pred_testing_mse']\n",
    "metric_headers = ['Time Taken /s', 'MSE']"
   ]
  },
  {
   "cell_type": "code",
   "execution_count": null,
   "metadata": {},
   "outputs": [],
   "source": [
    "df, raw_df = results.get_ordered_table(\n",
    "    experiment_name, metrics[:],\n",
    "    group_by=['name'],\n",
    "    results_by=[],\n",
    "    num_folds=ex_config['NUM_FOLDS'],\n",
    "    return_raw=True\n",
    ")\n",
    "\n",
    "df.columns.set_names(\n",
    "    ['Metrics'],\n",
    "    inplace=True\n",
    ")\n",
    "\n",
    "df = df.rename(columns={\n",
    "    'training_time_score': 'Training Time',\n",
    "    'pred_testing_mse_score': 'MSE'\n",
    "})\n",
    "\n",
    "df.index.set_names(\n",
    "    ['Name'],\n",
    "    inplace=True\n",
    ")\n",
    "\n",
    "df"
   ]
  },
  {
   "cell_type": "markdown",
   "metadata": {},
   "source": [
    "# Plot results across all folds"
   ]
  },
  {
   "cell_type": "code",
   "execution_count": null,
   "metadata": {},
   "outputs": [],
   "source": [
    "all_configs = results.get_default_all_configs(\n",
    "    experiment_name, \n",
    "    model_root='../models',\n",
    "    drop_fold=False\n",
    ");\n",
    "\n",
    "\n",
    "experiment_to_plot = results.get_names_that_match_filter(\n",
    "    all_configs,\n",
    "    {\n",
    "        'config.name': 'template',\n",
    "    },\n",
    ")\n",
    "\n",
    "experiments  = model_log.sacred_manager.match_config_filters_to_experiment_ids(\n",
    "    experiment_name, \n",
    "    all_configs\n",
    ")"
   ]
  },
  {
   "cell_type": "code",
   "execution_count": null,
   "metadata": {},
   "outputs": [],
   "source": []
  },
  {
   "cell_type": "code",
   "execution_count": null,
   "metadata": {},
   "outputs": [],
   "source": [
    "#load results dict\n",
    "results_dict = {}\n",
    "name = all_configs[list(all_configs.keys())[0]]['config.name']\n",
    "for k, i in experiments.items():\n",
    "    try:\n",
    "        exp_name = '{name}_{_id}'.format(name=name, _id=i)\n",
    "        print('loading: ', exp_name)\n",
    "        _results = pickle.load(open('../results/{name}.pickle'.format(name=exp_name), \"rb\" ))\n",
    "        results_dict[k] = _results\n",
    "    except:\n",
    "        print('Could not load: ', k)"
   ]
  },
  {
   "cell_type": "code",
   "execution_count": null,
   "metadata": {},
   "outputs": [],
   "source": [
    "fig, axes = plt.subplots(ex_config['NUM_FOLDS'], figsize=(20, 10))\n",
    "\n",
    "pred_data = pickle.load(open('../data/pred_data.pickle', \"rb\" ))\n",
    "\n",
    "for fold in range(ex_config['NUM_FOLDS']):\n",
    "    train_data = pickle.load(open('../data/train_data_{fold}.pickle'.format(fold=fold), \"rb\" ))\n",
    "    test_data = pickle.load(open('../data/test_data_{fold}.pickle'.format(fold=fold), \"rb\" ))\n",
    "\n",
    "    res = results.get_names_that_match_filter(all_configs, {\n",
    "        'config.fold': fold,\n",
    "        'config.name': 'template'\n",
    "    })[0]\n",
    "    result = results_dict[res]\n",
    "    \n",
    "    axes[fold].plot(pred_data['vis']['X'], result['pred']['vis']['mean'])\n",
    "    axes[fold].scatter(train_data['X'], train_data['Y'])"
   ]
  },
  {
   "cell_type": "code",
   "execution_count": null,
   "metadata": {},
   "outputs": [],
   "source": [
    "chkhjsdfsdfsd clean me"
   ]
  }
 ],
 "metadata": {
  "kernelspec": {
   "display_name": "vm368",
   "language": "python",
   "name": "vm368"
  },
  "language_info": {
   "codemirror_mode": {
    "name": "ipython",
    "version": 3
   },
   "file_extension": ".py",
   "mimetype": "text/x-python",
   "name": "python",
   "nbconvert_exporter": "python",
   "pygments_lexer": "ipython3",
   "version": "3.6.8"
  }
 },
 "nbformat": 4,
 "nbformat_minor": 4
}
